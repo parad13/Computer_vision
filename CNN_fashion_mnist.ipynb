{
  "nbformat": 4,
  "nbformat_minor": 0,
  "metadata": {
    "colab": {
      "name": "CNN_fashion_mnist.ipynb",
      "provenance": [],
      "authorship_tag": "ABX9TyPWFCcRGDoB9OXvvsj2Tog0",
      "include_colab_link": true
    },
    "kernelspec": {
      "name": "python3",
      "display_name": "Python 3"
    },
    "accelerator": "GPU"
  },
  "cells": [
    {
      "cell_type": "markdown",
      "metadata": {
        "id": "view-in-github",
        "colab_type": "text"
      },
      "source": [
        "<a href=\"https://colab.research.google.com/github/parad13/Computer_vision/blob/main/CNN_fashion_mnist.ipynb\" target=\"_parent\"><img src=\"https://colab.research.google.com/assets/colab-badge.svg\" alt=\"Open In Colab\"/></a>"
      ]
    },
    {
      "cell_type": "code",
      "metadata": {
        "id": "IleK5OMcZKCq"
      },
      "source": [
        "#Importing moduels such as tensorflow, fashion_mnist dataset\n",
        "import tensorflow as tf\n",
        "mnist = tf.keras.datasets.fashion_mnist"
      ],
      "execution_count": null,
      "outputs": []
    },
    {
      "cell_type": "code",
      "metadata": {
        "colab": {
          "base_uri": "https://localhost:8080/"
        },
        "id": "NypzhP4UYKSa",
        "outputId": "f3badf32-e1e3-45ee-c39b-227bc72646bf"
      },
      "source": [
        "#train_test_split\n",
        "(training_images, traning_labels), (testing_images, testing_labels) = mnist.load_data()"
      ],
      "execution_count": null,
      "outputs": [
        {
          "output_type": "stream",
          "text": [
            "Downloading data from https://storage.googleapis.com/tensorflow/tf-keras-datasets/train-labels-idx1-ubyte.gz\n",
            "32768/29515 [=================================] - 0s 0us/step\n",
            "Downloading data from https://storage.googleapis.com/tensorflow/tf-keras-datasets/train-images-idx3-ubyte.gz\n",
            "26427392/26421880 [==============================] - 1s 0us/step\n",
            "Downloading data from https://storage.googleapis.com/tensorflow/tf-keras-datasets/t10k-labels-idx1-ubyte.gz\n",
            "8192/5148 [===============================================] - 0s 0us/step\n",
            "Downloading data from https://storage.googleapis.com/tensorflow/tf-keras-datasets/t10k-images-idx3-ubyte.gz\n",
            "4423680/4422102 [==============================] - 0s 0us/step\n"
          ],
          "name": "stdout"
        }
      ]
    },
    {
      "cell_type": "code",
      "metadata": {
        "colab": {
          "base_uri": "https://localhost:8080/"
        },
        "id": "k27u4REieiRO",
        "outputId": "e7209484-92ab-432b-db67-0e3f918be458"
      },
      "source": [
        "training_images.shape,testing_images.shape"
      ],
      "execution_count": null,
      "outputs": [
        {
          "output_type": "execute_result",
          "data": {
            "text/plain": [
              "((60000, 28, 28), (10000, 28, 28))"
            ]
          },
          "metadata": {
            "tags": []
          },
          "execution_count": 3
        }
      ]
    },
    {
      "cell_type": "code",
      "metadata": {
        "id": "LGC1_ZaCY6Zb"
      },
      "source": [
        "#Reshaping (for CNN) & Normalizing images\n",
        "training_images = training_images.reshape(60000,28,28,1)\n",
        "training_images = training_images / 255.0\n",
        "testing_images = testing_images.reshape(10000,28,28,1)\n",
        "testing_images = testing_images / 255.0"
      ],
      "execution_count": null,
      "outputs": []
    },
    {
      "cell_type": "code",
      "metadata": {
        "id": "_EL3TtmqcHlJ",
        "colab": {
          "base_uri": "https://localhost:8080/"
        },
        "outputId": "b5d62b4b-1841-40ba-d322-d7513ec26e7d"
      },
      "source": [
        "#Model Building - Create Model\n",
        "model = tf.keras.models.Sequential()\n",
        "model.add(tf.keras.layers.Conv2D(32, (3,3), activation='relu', input_shape = (28,28,1)))\n",
        "model.add(tf.keras.layers.MaxPool2D(2,2),)\n",
        "model.add(tf.keras.layers.Conv2D(64, (3,3), activation='relu'),)\n",
        "model.add(tf.keras.layers.MaxPool2D(2,2),)\n",
        "model.add(tf.keras.layers.Flatten(),)\n",
        "model.add(tf.keras.layers.Dense(128, activation='relu'),)\n",
        "model.add(tf.keras.layers.Dense(10, activation='softmax'))\n",
        "model.summary()"
      ],
      "execution_count": null,
      "outputs": [
        {
          "output_type": "stream",
          "text": [
            "Model: \"sequential\"\n",
            "_________________________________________________________________\n",
            "Layer (type)                 Output Shape              Param #   \n",
            "=================================================================\n",
            "conv2d (Conv2D)              (None, 26, 26, 32)        320       \n",
            "_________________________________________________________________\n",
            "max_pooling2d (MaxPooling2D) (None, 13, 13, 32)        0         \n",
            "_________________________________________________________________\n",
            "conv2d_1 (Conv2D)            (None, 11, 11, 64)        18496     \n",
            "_________________________________________________________________\n",
            "max_pooling2d_1 (MaxPooling2 (None, 5, 5, 64)          0         \n",
            "_________________________________________________________________\n",
            "flatten (Flatten)            (None, 1600)              0         \n",
            "_________________________________________________________________\n",
            "dense (Dense)                (None, 128)               204928    \n",
            "_________________________________________________________________\n",
            "dense_1 (Dense)              (None, 10)                1290      \n",
            "=================================================================\n",
            "Total params: 225,034\n",
            "Trainable params: 225,034\n",
            "Non-trainable params: 0\n",
            "_________________________________________________________________\n"
          ],
          "name": "stdout"
        }
      ]
    },
    {
      "cell_type": "code",
      "metadata": {
        "id": "uIF9lxZ_cMTx"
      },
      "source": [
        "# Model Compilation & summary generation\n",
        "model.compile(optimizer='adam', loss='sparse_categorical_crossentropy', metrics='accuracy')\n",
        "# loss='sparse_categorical_crossentropy'\n",
        "# model.summary()"
      ],
      "execution_count": null,
      "outputs": []
    },
    {
      "cell_type": "code",
      "metadata": {
        "colab": {
          "base_uri": "https://localhost:8080/"
        },
        "id": "hXQUTGViinQn",
        "outputId": "697c944c-664c-4103-fb42-a689e587d9ad"
      },
      "source": [
        "#fitting model on training images, labels & evaluating it on testing images\n",
        "model.fit(training_images, traning_labels, batch_size=250, epochs=5)\n",
        "model.evaluate(testing_images, testing_labels)"
      ],
      "execution_count": null,
      "outputs": [
        {
          "output_type": "stream",
          "text": [
            "Epoch 1/5\n",
            "240/240 [==============================] - 31s 5ms/step - loss: 0.9273 - accuracy: 0.6737\n",
            "Epoch 2/5\n",
            "240/240 [==============================] - 1s 4ms/step - loss: 0.4013 - accuracy: 0.8568\n",
            "Epoch 3/5\n",
            "240/240 [==============================] - 1s 4ms/step - loss: 0.3484 - accuracy: 0.8742\n",
            "Epoch 4/5\n",
            "240/240 [==============================] - 1s 4ms/step - loss: 0.3066 - accuracy: 0.8887\n",
            "Epoch 5/5\n",
            "240/240 [==============================] - 1s 4ms/step - loss: 0.2926 - accuracy: 0.8939\n",
            "313/313 [==============================] - 1s 2ms/step - loss: 0.2985 - accuracy: 0.8919\n"
          ],
          "name": "stdout"
        },
        {
          "output_type": "execute_result",
          "data": {
            "text/plain": [
              "[0.29851457476615906, 0.8919000029563904]"
            ]
          },
          "metadata": {
            "tags": []
          },
          "execution_count": 7
        }
      ]
    },
    {
      "cell_type": "code",
      "metadata": {
        "id": "O4GIkSVxjPF0"
      },
      "source": [
        ""
      ],
      "execution_count": null,
      "outputs": []
    }
  ]
}